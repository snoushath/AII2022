{
 "cells": [
  {
   "cell_type": "code",
   "execution_count": 45,
   "metadata": {},
   "outputs": [],
   "source": [
    "from tensorflow import keras\n",
    "import os\n",
    "import h5py\n",
    "import numpy as np\n",
    "#print(os.getcwd())"
   ]
  },
  {
   "cell_type": "code",
   "execution_count": 46,
   "metadata": {},
   "outputs": [],
   "source": [
    "def load_OASIS():\n",
    "    with h5py.File('..\\..\\Datasets\\OASIS_balanced.h5', 'r') as hdf:\n",
    "\n",
    "        G1 = hdf.get('Train Data')\n",
    "        trainX = np.array(G1.get('trainX'))\n",
    "        trainY = np.array(G1.get('trainY'))\n",
    "        G2 = hdf.get('Test Data')\n",
    "        testX = np.array(G2.get('testX'))\n",
    "        testY = np.array(G2.get('testY'))\n",
    "\n",
    "        return trainX, trainY, testX, testY"
   ]
  },
  {
   "cell_type": "code",
   "execution_count": 47,
   "metadata": {},
   "outputs": [],
   "source": [
    "def load_ADNI():\n",
    "    with h5py.File('..\\..\\Datasets\\ADNI_enhanced.h5', 'r') as hdf:\n",
    "\n",
    "        G1 = hdf.get('Train Data')\n",
    "        trainX = np.array(G1.get('x_train'))\n",
    "        trainY = np.array(G1.get('y_train'))\n",
    "        G2 = hdf.get('Test Data')\n",
    "        testX = np.array(G2.get('x_test'))\n",
    "        testY = np.array(G2.get('y_test'))\n",
    "\n",
    "        return trainX, trainY, testX, testY"
   ]
  },
  {
   "cell_type": "code",
   "execution_count": 57,
   "metadata": {},
   "outputs": [
    {
     "name": "stdout",
     "output_type": "stream",
     "text": [
      "(8192, 176, 176) (8192,) (2560, 176, 176) (2560,)\n"
     ]
    }
   ],
   "source": [
    "dataset = 'ADNdI'\n",
    "#dataset = 'ADsNI'\n",
    "# read the data which is also normalized.\n",
    "if dataset == 'ADNI':\n",
    "    x_train, y_train, x_test, y_test = load_ADNI()\n",
    "else:\n",
    "    x_train, y_train, x_test, y_test = load_OASIS()\n",
    "\n",
    "print(x_train.shape, y_train.shape, x_test.shape,y_test.shape)"
   ]
  },
  {
   "cell_type": "code",
   "execution_count": 58,
   "metadata": {},
   "outputs": [
    {
     "name": "stdout",
     "output_type": "stream",
     "text": [
      "X train shape (8192, 176, 176, 3)\n",
      "Y train shape (8192, 4)\n",
      "176 176\n"
     ]
    }
   ],
   "source": [
    "from tensorflow.keras.utils import to_categorical\n",
    "x_train = np.expand_dims(x_train, axis=-1)\n",
    "x_train = np.repeat(x_train, 3, axis=3)\n",
    "\n",
    "x_test = np.expand_dims(x_test, axis=-1)\n",
    "x_test = np.repeat(x_test, 3, axis=3)\n",
    "\n",
    "y_train_cat = to_categorical(y_train, num_classes=4)\n",
    "y_test_cat = to_categorical(y_test, num_classes=4)\n",
    "print('X train shape', x_train.shape)\n",
    "print('Y train shape', y_train_cat.shape)\n",
    "row = x_train.shape[1]\n",
    "col = x_train.shape[2]\n",
    "print(row, col)"
   ]
  },
  {
   "cell_type": "code",
   "execution_count": 53,
   "metadata": {},
   "outputs": [
    {
     "name": "stdout",
     "output_type": "stream",
     "text": [
      "Model: \"sequential_17\"\n",
      "_________________________________________________________________\n",
      "Layer (type)                 Output Shape              Param #   \n",
      "=================================================================\n",
      "conv2d_1136 (Conv2D)         (None, 174, 174, 16)      160       \n",
      "_________________________________________________________________\n",
      "conv2d_1137 (Conv2D)         (None, 172, 172, 16)      2320      \n",
      "_________________________________________________________________\n",
      "max_pooling2d_40 (MaxPooling (None, 86, 86, 16)        0         \n",
      "_________________________________________________________________\n",
      "conv2d_1138 (Conv2D)         (None, 84, 84, 32)        4640      \n",
      "_________________________________________________________________\n",
      "conv2d_1139 (Conv2D)         (None, 82, 82, 32)        9248      \n",
      "_________________________________________________________________\n",
      "conv2d_1140 (Conv2D)         (None, 80, 80, 32)        9248      \n",
      "_________________________________________________________________\n",
      "max_pooling2d_41 (MaxPooling (None, 40, 40, 32)        0         \n",
      "_________________________________________________________________\n",
      "conv2d_1141 (Conv2D)         (None, 38, 38, 64)        18496     \n",
      "_________________________________________________________________\n",
      "conv2d_1142 (Conv2D)         (None, 38, 38, 16)        1040      \n",
      "_________________________________________________________________\n",
      "flatten_15 (Flatten)         (None, 23104)             0         \n",
      "_________________________________________________________________\n",
      "dense_30 (Dense)             (None, 4)                 92420     \n",
      "=================================================================\n",
      "Total params: 137,572\n",
      "Trainable params: 137,572\n",
      "Non-trainable params: 0\n",
      "_________________________________________________________________\n"
     ]
    }
   ],
   "source": [
    "#load model-A (CNN from scratch) architecture and weights \n",
    "from tensorflow.keras.models import Sequential\n",
    "from tensorflow.keras.layers import Conv2D, MaxPooling2D, Dropout, Flatten, Dense\n",
    "from tensorflow.keras.callbacks import EarlyStopping\n",
    "\n",
    "modelA = Sequential()\n",
    "\n",
    "modelA.add(Conv2D(16, (3, 3), input_shape=(176,176,1), activation='relu'))\n",
    "modelA.add(Conv2D(16, (3, 3), activation='relu'))\n",
    "modelA.add(MaxPooling2D(pool_size=(2, 2)))\n",
    "\n",
    "modelA.add(Conv2D(32, (3, 3), activation='relu'))\n",
    "modelA.add(Conv2D(32, (3, 3), activation='relu'))\n",
    "modelA.add(Conv2D(32, (3, 3), activation='relu'))\n",
    "modelA.add(MaxPooling2D(pool_size = (2, 2)))\n",
    "\n",
    "modelA.add(Conv2D(64, (3, 3), activation='relu'))\n",
    "modelA.add(Conv2D(16, (1,1)))\n",
    "\n",
    "modelA.add(Flatten())\n",
    "\n",
    "modelA.add(Dense(4, activation = 'softmax'))\n",
    "\n",
    "modelA.compile(loss='categorical_crossentropy',optimizer='adam',metrics =['acc'])\n",
    "modelA.summary()\n",
    "\n",
    "modelA.load_weights('A.hdf5')"
   ]
  },
  {
   "cell_type": "code",
   "execution_count": 41,
   "metadata": {},
   "outputs": [
    {
     "name": "stdout",
     "output_type": "stream",
     "text": [
      "Model: \"sequential_14\"\n",
      "_________________________________________________________________\n",
      "Layer (type)                 Output Shape              Param #   \n",
      "=================================================================\n",
      "inception_v3 (Functional)    (None, 2048)              21802784  \n",
      "_________________________________________________________________\n",
      "dropout_16 (Dropout)         (None, 2048)              0         \n",
      "_________________________________________________________________\n",
      "flatten_12 (Flatten)         (None, 2048)              0         \n",
      "_________________________________________________________________\n",
      "batch_normalization_906 (Bat (None, 2048)              8192      \n",
      "_________________________________________________________________\n",
      "dense_21 (Dense)             (None, 2048)              4196352   \n",
      "_________________________________________________________________\n",
      "batch_normalization_907 (Bat (None, 2048)              8192      \n",
      "_________________________________________________________________\n",
      "activation_901 (Activation)  (None, 2048)              0         \n",
      "_________________________________________________________________\n",
      "dropout_17 (Dropout)         (None, 2048)              0         \n",
      "_________________________________________________________________\n",
      "dense_22 (Dense)             (None, 1024)              2098176   \n",
      "_________________________________________________________________\n",
      "batch_normalization_908 (Bat (None, 1024)              4096      \n",
      "_________________________________________________________________\n",
      "activation_902 (Activation)  (None, 1024)              0         \n",
      "_________________________________________________________________\n",
      "dropout_18 (Dropout)         (None, 1024)              0         \n",
      "_________________________________________________________________\n",
      "dense_23 (Dense)             (None, 4)                 4100      \n",
      "=================================================================\n",
      "Total params: 28,121,892\n",
      "Trainable params: 6,308,868\n",
      "Non-trainable params: 21,813,024\n",
      "_________________________________________________________________\n"
     ]
    }
   ],
   "source": [
    "#load model-B (InceptionV3) architecture and weights \n",
    "import tensorflow as tf\n",
    "from tensorflow.keras.layers import Activation, BatchNormalization\n",
    "modelB = Sequential()\n",
    "\n",
    "pretrained_model= tf.keras.applications.InceptionV3(include_top=False,\n",
    "                   input_shape=(176,176,3),\n",
    "                   #input_shape=(218,182,3),\n",
    "                   pooling='avg',classes=4,\n",
    "                   weights='imagenet')\n",
    "\n",
    "for layer in pretrained_model.layers:\n",
    "        layer.trainable=False\n",
    "\n",
    "modelB.add(pretrained_model)\n",
    "modelB.add(Dropout(0.5))\n",
    "modelB.add(Flatten())\n",
    "modelB.add(BatchNormalization())\n",
    "modelB.add(Dense(2048,kernel_initializer='he_uniform'))\n",
    "modelB.add(BatchNormalization())\n",
    "modelB.add(Activation('relu'))\n",
    "modelB.add(Dropout(0.5))\n",
    "modelB.add(Dense(1024,kernel_initializer='he_uniform'))\n",
    "modelB.add(BatchNormalization())\n",
    "modelB.add(Activation('relu'))\n",
    "modelB.add(Dropout(0.5))\n",
    "modelB.add(Dense(4,activation='softmax'))\n",
    "modelB.summary()\n",
    "\n",
    "modelB.load_weights('B.hdf5')"
   ]
  },
  {
   "cell_type": "code",
   "execution_count": 42,
   "metadata": {},
   "outputs": [
    {
     "name": "stdout",
     "output_type": "stream",
     "text": [
      "Model: \"sequential_15\"\n",
      "_________________________________________________________________\n",
      "Layer (type)                 Output Shape              Param #   \n",
      "=================================================================\n",
      "inception_resnet_v2 (Functio (None, 1536)              54336736  \n",
      "_________________________________________________________________\n",
      "dropout_19 (Dropout)         (None, 1536)              0         \n",
      "_________________________________________________________________\n",
      "flatten_13 (Flatten)         (None, 1536)              0         \n",
      "_________________________________________________________________\n",
      "batch_normalization_1112 (Ba (None, 1536)              6144      \n",
      "_________________________________________________________________\n",
      "dense_24 (Dense)             (None, 2048)              3147776   \n",
      "_________________________________________________________________\n",
      "batch_normalization_1113 (Ba (None, 2048)              8192      \n",
      "_________________________________________________________________\n",
      "activation_1106 (Activation) (None, 2048)              0         \n",
      "_________________________________________________________________\n",
      "dropout_20 (Dropout)         (None, 2048)              0         \n",
      "_________________________________________________________________\n",
      "dense_25 (Dense)             (None, 1024)              2098176   \n",
      "_________________________________________________________________\n",
      "batch_normalization_1114 (Ba (None, 1024)              4096      \n",
      "_________________________________________________________________\n",
      "activation_1107 (Activation) (None, 1024)              0         \n",
      "_________________________________________________________________\n",
      "dropout_21 (Dropout)         (None, 1024)              0         \n",
      "_________________________________________________________________\n",
      "dense_26 (Dense)             (None, 4)                 4100      \n",
      "=================================================================\n",
      "Total params: 59,605,220\n",
      "Trainable params: 5,259,268\n",
      "Non-trainable params: 54,345,952\n",
      "_________________________________________________________________\n"
     ]
    }
   ],
   "source": [
    "#load model-C (InceptionResNetV2) architecture and weights \n",
    "import tensorflow as tf\n",
    "from tensorflow.keras.layers import Activation, BatchNormalization\n",
    "modelC = Sequential()\n",
    "\n",
    "pretrained_model= tf.keras.applications.InceptionResNetV2(include_top=False,\n",
    "                   input_shape=(176,176,3),\n",
    "                   #input_shape=(218,182,3),\n",
    "                   pooling='avg',classes=4,\n",
    "                   weights='imagenet')\n",
    "\n",
    "for layer in pretrained_model.layers:\n",
    "        layer.trainable=False\n",
    "\n",
    "modelC.add(pretrained_model)\n",
    "modelC.add(Dropout(0.5))\n",
    "modelC.add(Flatten())\n",
    "modelC.add(BatchNormalization())\n",
    "modelC.add(Dense(2048,kernel_initializer='he_uniform'))\n",
    "modelC.add(BatchNormalization())\n",
    "modelC.add(Activation('relu'))\n",
    "modelC.add(Dropout(0.5))\n",
    "modelC.add(Dense(1024,kernel_initializer='he_uniform'))\n",
    "modelC.add(BatchNormalization())\n",
    "modelC.add(Activation('relu'))\n",
    "modelC.add(Dropout(0.5))\n",
    "modelC.add(Dense(4,activation='softmax'))\n",
    "modelC.summary()\n",
    "\n",
    "modelC.load_weights('C.hdf5')"
   ]
  },
  {
   "cell_type": "code",
   "execution_count": 43,
   "metadata": {},
   "outputs": [
    {
     "name": "stdout",
     "output_type": "stream",
     "text": [
      "Model: \"sequential_16\"\n",
      "_________________________________________________________________\n",
      "Layer (type)                 Output Shape              Param #   \n",
      "=================================================================\n",
      "resnet101 (Functional)       (None, 2048)              42658176  \n",
      "_________________________________________________________________\n",
      "dropout_22 (Dropout)         (None, 2048)              0         \n",
      "_________________________________________________________________\n",
      "flatten_14 (Flatten)         (None, 2048)              0         \n",
      "_________________________________________________________________\n",
      "batch_normalization_1115 (Ba (None, 2048)              8192      \n",
      "_________________________________________________________________\n",
      "dense_27 (Dense)             (None, 2048)              4196352   \n",
      "_________________________________________________________________\n",
      "batch_normalization_1116 (Ba (None, 2048)              8192      \n",
      "_________________________________________________________________\n",
      "activation_1108 (Activation) (None, 2048)              0         \n",
      "_________________________________________________________________\n",
      "dropout_23 (Dropout)         (None, 2048)              0         \n",
      "_________________________________________________________________\n",
      "dense_28 (Dense)             (None, 1024)              2098176   \n",
      "_________________________________________________________________\n",
      "batch_normalization_1117 (Ba (None, 1024)              4096      \n",
      "_________________________________________________________________\n",
      "activation_1109 (Activation) (None, 1024)              0         \n",
      "_________________________________________________________________\n",
      "dropout_24 (Dropout)         (None, 1024)              0         \n",
      "_________________________________________________________________\n",
      "dense_29 (Dense)             (None, 4)                 4100      \n",
      "=================================================================\n",
      "Total params: 48,977,284\n",
      "Trainable params: 6,308,868\n",
      "Non-trainable params: 42,668,416\n",
      "_________________________________________________________________\n"
     ]
    }
   ],
   "source": [
    "#load model-D (ResNet101) architecture and weights \n",
    "\n",
    "import tensorflow as tf\n",
    "from tensorflow.keras.layers import Activation, BatchNormalization\n",
    "modelD = Sequential()\n",
    "\n",
    "pretrained_model= tf.keras.applications.ResNet101(include_top=False,\n",
    "                   input_shape=(176,176,3),\n",
    "                   #input_shape=(218,182,3),\n",
    "                   pooling='avg',classes=4,\n",
    "                   weights='imagenet')\n",
    "\n",
    "for layer in pretrained_model.layers:\n",
    "        layer.trainable=False\n",
    "\n",
    "modelD.add(pretrained_model)\n",
    "modelD.add(Dropout(0.5))\n",
    "modelD.add(Flatten())\n",
    "modelD.add(BatchNormalization())\n",
    "modelD.add(Dense(2048,kernel_initializer='he_uniform'))\n",
    "modelD.add(BatchNormalization())\n",
    "modelD.add(Activation('relu'))\n",
    "modelD.add(Dropout(0.5))\n",
    "modelD.add(Dense(1024,kernel_initializer='he_uniform'))\n",
    "modelD.add(BatchNormalization())\n",
    "modelD.add(Activation('relu'))\n",
    "modelD.add(Dropout(0.5))\n",
    "modelD.add(Dense(4,activation='softmax'))\n",
    "modelD.summary()\n",
    "\n",
    "modelD.load_weights('D.hdf5')"
   ]
  },
  {
   "cell_type": "code",
   "execution_count": 62,
   "metadata": {},
   "outputs": [],
   "source": [
    "x_traina, y_traina, x_testa, y_testa = load_OASIS()\n",
    "x_traina = np.expand_dims(x_traina,axis = -1)\n",
    "x_testa = np.expand_dims(x_testa,axis = -1)\n",
    "\n",
    "modelAprediction = modelA.predict(x_testa)"
   ]
  },
  {
   "cell_type": "code",
   "execution_count": 63,
   "metadata": {},
   "outputs": [
    {
     "name": "stdout",
     "output_type": "stream",
     "text": [
      "(2560, 4)\n"
     ]
    }
   ],
   "source": [
    "print(modelAprediction.shape)"
   ]
  },
  {
   "cell_type": "code",
   "execution_count": 65,
   "metadata": {},
   "outputs": [],
   "source": [
    "modelBprediction = modelB.predict(x_test)\n"
   ]
  },
  {
   "cell_type": "code",
   "execution_count": 66,
   "metadata": {},
   "outputs": [],
   "source": [
    "modelCprediction = modelC.predict(x_test)"
   ]
  },
  {
   "cell_type": "code",
   "execution_count": 67,
   "metadata": {},
   "outputs": [],
   "source": [
    "modelDprediction = modelD.predict(x_test)"
   ]
  },
  {
   "cell_type": "code",
   "execution_count": 81,
   "metadata": {},
   "outputs": [
    {
     "name": "stdout",
     "output_type": "stream",
     "text": [
      "ensemble accuracy = 0.965625\n"
     ]
    }
   ],
   "source": [
    "#ensemble prediction \n",
    "preds = np.stack([modelAprediction,modelBprediction,modelCprediction, modelDprediction], axis=0)\n",
    "\n",
    "summed = np.sum(preds, axis=0) #computes the sum of probability by all 2 models for each class\n",
    "ensemble_prediction = np.argmax(summed, axis=1) \n",
    "ensemble_accuracy = accuracy_score(y_test, ensemble_prediction)\n",
    "print('ensemble accuracy =', ensemble_accuracy)"
   ]
  },
  {
   "cell_type": "code",
   "execution_count": 55,
   "metadata": {},
   "outputs": [
    {
     "name": "stdout",
     "output_type": "stream",
     "text": [
      "prediction by all models\n",
      "(2, 2560, 4)\n",
      "predicting classes by individual models\n"
     ]
    },
    {
     "name": "stderr",
     "output_type": "stream",
     "text": [
      "c:\\Users\\noush\\anaconda3\\envs\\tf2.5\\lib\\site-packages\\tensorflow\\python\\keras\\engine\\sequential.py:455: UserWarning: `model.predict_classes()` is deprecated and will be removed after 2021-01-01. Please use instead:* `np.argmax(model.predict(x), axis=-1)`,   if your model does multi-class classification   (e.g. if it uses a `softmax` last-layer activation).* `(model.predict(x) > 0.5).astype(\"int32\")`,   if your model does binary classification   (e.g. if it uses a `sigmoid` last-layer activation).\n",
      "  warnings.warn('`model.predict_classes()` is deprecated and '\n"
     ]
    },
    {
     "name": "stdout",
     "output_type": "stream",
     "text": [
      "computing accuracy by all models\n",
      "Accuracy Score for model1 =  0.912890625\n",
      "Accuracy Score for model2 =  0.90078125\n",
      "ensemble accuracy = 0.936328125\n"
     ]
    }
   ],
   "source": [
    "#Ensemble of 2 models\n",
    "model1, model2 = modelB, modelC \n",
    "models = [modelB, modelC]\n",
    "print (\"prediction by all models\")\n",
    "preds = [model.predict(x_test) for model in models]\n",
    "preds=np.array(preds)\n",
    "print(preds.shape)\n",
    "summed = np.sum(preds, axis=0) #computes the sum of probability by all 2 models for each class\n",
    "\n",
    "ensemble_prediction = np.argmax(summed, axis=1) #predicts the class labels based on maximum probability.\n",
    "\n",
    "print(\"predicting classes by individual models\")\n",
    "prediction1 = model1.predict_classes(x_test)\n",
    "prediction2 = model2.predict_classes(x_test)\n",
    "\n",
    "print(\"computing accuracy by all models\")\n",
    "from sklearn.metrics import accuracy_score\n",
    "accuracy1 = accuracy_score(y_test, prediction1)\n",
    "accuracy2 = accuracy_score(y_test, prediction2)\n",
    "ensemble_accuracy = accuracy_score(y_test, ensemble_prediction)\n",
    "\n",
    "\n",
    "print('Accuracy Score for model1 = ', accuracy1)\n",
    "print('Accuracy Score for model2 = ', accuracy2)\n",
    "print('ensemble accuracy =', ensemble_accuracy)"
   ]
  }
 ],
 "metadata": {
  "kernelspec": {
   "display_name": "tf2.5",
   "language": "python",
   "name": "python3"
  },
  "language_info": {
   "codemirror_mode": {
    "name": "ipython",
    "version": 3
   },
   "file_extension": ".py",
   "mimetype": "text/x-python",
   "name": "python",
   "nbconvert_exporter": "python",
   "pygments_lexer": "ipython3",
   "version": "3.8.0"
  },
  "orig_nbformat": 4
 },
 "nbformat": 4,
 "nbformat_minor": 2
}
