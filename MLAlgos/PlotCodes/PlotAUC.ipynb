{
 "cells": [
  {
   "cell_type": "code",
   "execution_count": 2,
   "metadata": {},
   "outputs": [],
   "source": [
    "import numpy as np\n",
    "import h5py\n",
    "\n",
    "from sklearn.metrics import accuracy_score"
   ]
  },
  {
   "cell_type": "code",
   "execution_count": 1,
   "metadata": {},
   "outputs": [],
   "source": [
    "def load_OASIS():\n",
    "    #with h5py.File('C:\\\\Users\\\\soh8020\\\\Desktop\\\\Alzheimer Data\\\\Alzheimer_64x64\\\\alz64_hdf5.h5', 'r') as hdf:\n",
    "    with h5py.File('C:\\\\Users\\\\noush\\\\OneDrive\\\\Desktop\\\\ADNI\\\\OASIS_balanced.h5', 'r') as hdf:\n",
    "\n",
    "        G1 = hdf.get('Train Data')\n",
    "        trainX = np.array(G1.get('trainX'))\n",
    "        trainY = np.array(G1.get('trainY'))\n",
    "        G2 = hdf.get('Test Data')\n",
    "        testX = np.array(G2.get('testX'))\n",
    "        testY = np.array(G2.get('testY'))\n",
    "\n",
    "        return trainX, trainY, testX, testY"
   ]
  },
  {
   "cell_type": "code",
   "execution_count": 3,
   "metadata": {},
   "outputs": [],
   "source": [
    "def load_ADNI():\n",
    "    #with h5py.File('C:\\\\Users\\\\soh8020\\\\Desktop\\\\Alzheimer Data\\\\Alzheimer_64x64\\\\alz64_hdf5.h5', 'r') as hdf:\n",
    "    with h5py.File('C:\\\\Users\\\\noush\\\\OneDrive\\\\Desktop\\ADNI\\\\ADNI_enhanced.h5', 'r') as hdf:\n",
    "\n",
    "        G1 = hdf.get('Train Data')\n",
    "        trainX = np.array(G1.get('x_train'))\n",
    "        trainY = np.array(G1.get('y_train'))\n",
    "        G2 = hdf.get('Test Data')\n",
    "        testX = np.array(G2.get('x_test'))\n",
    "        testY = np.array(G2.get('y_test'))\n",
    "\n",
    "        return trainX, trainY, testX, testY"
   ]
  },
  {
   "cell_type": "code",
   "execution_count": 24,
   "metadata": {},
   "outputs": [
    {
     "name": "stdout",
     "output_type": "stream",
     "text": [
      "(8192, 176, 176) (8192,) (2560, 176, 176) (2560,)\n"
     ]
    }
   ],
   "source": [
    "dataset = 'ADlNI'\n",
    "# read the data which is also normalized.\n",
    "if dataset == 'ADNI':\n",
    "    x_train, y_train, x_test, y_test = load_ADNI()\n",
    "else:\n",
    "    x_train, y_train, x_test, y_test = load_OASIS()\n",
    "\n",
    "print(x_train.shape, y_train.shape, x_test.shape,y_test.shape)"
   ]
  },
  {
   "cell_type": "code",
   "execution_count": 25,
   "metadata": {},
   "outputs": [
    {
     "name": "stdout",
     "output_type": "stream",
     "text": [
      "x_train shape: (8192, 176, 176, 3)\n"
     ]
    }
   ],
   "source": [
    "# make it 3D (for VGG16)\n",
    "if dataset == 'ADNI':\n",
    "    x_train = np.repeat(x_train, 3, axis=3)\n",
    "    x_test = np.repeat(x_test, 3, axis=3)\n",
    "else:\n",
    "    x_train = np.expand_dims(x_train, axis=-1)\n",
    "    x_train = np.repeat(x_train, 3, axis=3)\n",
    "    x_test = np.expand_dims(x_test, axis=-1)\n",
    "    x_test = np.repeat(x_test, 3, axis=3)\n",
    "print('x_train shape:', x_train.shape)"
   ]
  },
  {
   "cell_type": "code",
   "execution_count": 26,
   "metadata": {},
   "outputs": [
    {
     "name": "stdout",
     "output_type": "stream",
     "text": [
      "Model: \"vgg16\"\n",
      "_________________________________________________________________\n",
      "Layer (type)                 Output Shape              Param #   \n",
      "=================================================================\n",
      "input_2 (InputLayer)         [(None, 176, 176, 3)]     0         \n",
      "_________________________________________________________________\n",
      "block1_conv1 (Conv2D)        (None, 176, 176, 64)      1792      \n",
      "_________________________________________________________________\n",
      "block1_conv2 (Conv2D)        (None, 176, 176, 64)      36928     \n",
      "_________________________________________________________________\n",
      "block1_pool (MaxPooling2D)   (None, 88, 88, 64)        0         \n",
      "_________________________________________________________________\n",
      "block2_conv1 (Conv2D)        (None, 88, 88, 128)       73856     \n",
      "_________________________________________________________________\n",
      "block2_conv2 (Conv2D)        (None, 88, 88, 128)       147584    \n",
      "_________________________________________________________________\n",
      "block2_pool (MaxPooling2D)   (None, 44, 44, 128)       0         \n",
      "_________________________________________________________________\n",
      "block3_conv1 (Conv2D)        (None, 44, 44, 256)       295168    \n",
      "_________________________________________________________________\n",
      "block3_conv2 (Conv2D)        (None, 44, 44, 256)       590080    \n",
      "_________________________________________________________________\n",
      "block3_conv3 (Conv2D)        (None, 44, 44, 256)       590080    \n",
      "_________________________________________________________________\n",
      "block3_pool (MaxPooling2D)   (None, 22, 22, 256)       0         \n",
      "_________________________________________________________________\n",
      "block4_conv1 (Conv2D)        (None, 22, 22, 512)       1180160   \n",
      "_________________________________________________________________\n",
      "block4_conv2 (Conv2D)        (None, 22, 22, 512)       2359808   \n",
      "_________________________________________________________________\n",
      "block4_conv3 (Conv2D)        (None, 22, 22, 512)       2359808   \n",
      "_________________________________________________________________\n",
      "block4_pool (MaxPooling2D)   (None, 11, 11, 512)       0         \n",
      "_________________________________________________________________\n",
      "block5_conv1 (Conv2D)        (None, 11, 11, 512)       2359808   \n",
      "_________________________________________________________________\n",
      "block5_conv2 (Conv2D)        (None, 11, 11, 512)       2359808   \n",
      "_________________________________________________________________\n",
      "block5_conv3 (Conv2D)        (None, 11, 11, 512)       2359808   \n",
      "_________________________________________________________________\n",
      "block5_pool (MaxPooling2D)   (None, 5, 5, 512)         0         \n",
      "=================================================================\n",
      "Total params: 14,714,688\n",
      "Trainable params: 0\n",
      "Non-trainable params: 14,714,688\n",
      "_________________________________________________________________\n"
     ]
    }
   ],
   "source": [
    "from tensorflow.keras.applications.vgg16 import VGG16\n",
    "if dataset == 'ADNI':\n",
    "    VGG_model = VGG16(weights='imagenet', include_top=False, input_shape=(218, 182, 3))\n",
    "else:\n",
    "    VGG_model = VGG16(weights='imagenet', include_top=False, input_shape=(176, 176, 3))\n",
    "    \n",
    "# Make loaded layers as non-trainable. This is important as we want to work with pre-trained weights\n",
    "for layer in VGG_model.layers:\n",
    "    layer.trainable = False\n",
    "\n",
    "VGG_model.summary()  # Trainable parameters will be 0"
   ]
  },
  {
   "cell_type": "code",
   "execution_count": 27,
   "metadata": {},
   "outputs": [
    {
     "name": "stdout",
     "output_type": "stream",
     "text": [
      "extracting VGG16 features\n",
      "reshaping features\n",
      "(2560, 12800)\n",
      "(8192, 12800)\n"
     ]
    }
   ],
   "source": [
    "# Now, let us use features from convolutional network for KNN\n",
    "print(\"extracting VGG16 features\")\n",
    "feature_extractor=VGG_model.predict(x_train)\n",
    "print(\"reshaping features\")\n",
    "features = feature_extractor.reshape(feature_extractor.shape[0], -1)\n",
    "# print(feature_extractor.shape)\n",
    "# print(features.shape)\n",
    "X_Train = features #This is our X input to Logistic Regression.\n",
    "#Send test data through same feature extractor process\n",
    "X_test_feature = VGG_model.predict(x_test)\n",
    "X_Test = X_test_feature.reshape(X_test_feature.shape[0], -1)\n",
    "print(X_Test.shape)\n",
    "print(X_Train.shape)"
   ]
  },
  {
   "cell_type": "code",
   "execution_count": 28,
   "metadata": {},
   "outputs": [
    {
     "name": "stdout",
     "output_type": "stream",
     "text": [
      "Classifier-1:KNN\n"
     ]
    }
   ],
   "source": [
    "print(\"Classifier-1:KNN\")\n",
    "from sklearn.neighbors import KNeighborsClassifier\n",
    "from sklearn import svm\n",
    "from sklearn.linear_model import LogisticRegression\n",
    "\n",
    "classifiers = [\n",
    "    ('KNN', KNeighborsClassifier(n_neighbors = 3, metric = 'minkowski', p = 2)),\n",
    "    ('SVM', svm.SVC(kernel='linear',C=1, probability = True)),\n",
    "    ('Logistic Regression', LogisticRegression(solver = 'liblinear')),\n",
    "]\n",
    "\n"
   ]
  },
  {
   "cell_type": "code",
   "execution_count": 29,
   "metadata": {},
   "outputs": [
    {
     "data": {
      "image/png": "[encoded data removed]",
      "text/plain": [
       "<Figure size 800x600 with 1 Axes>"
      ]
     },
     "metadata": {},
     "output_type": "display_data"
    }
   ],
   "source": [
    "import numpy as np\n",
    "import matplotlib.pyplot as plt\n",
    "from sklearn.metrics import roc_curve, auc\n",
    "from sklearn.metrics import multilabel_confusion_matrix\n",
    "\n",
    "from sklearn import metrics\n",
    "\n",
    "plt.figure(figsize=(8, 6))\n",
    "for clf_name, clf in classifiers:\n",
    "    clf.fit(X_Train, y_train)\n",
    "    y_pred_proba = clf.predict_proba(X_Test)\n",
    "\n",
    "    prediction = clf.predict(X_Test)\n",
    "    mcm = multilabel_confusion_matrix(y_true=y_test, y_pred=prediction, labels=[0,1,2,3], samplewise=False)\n",
    "    tn = mcm[:,0,0]\n",
    "    tp = mcm[:,1,1]\n",
    "    fp = mcm[:,0,1]\n",
    "    fn = mcm[:,1,0]\n",
    "    specificity = tn/(tn+fp)\n",
    "    sensitivity = tp/(tp+fn)\n",
    "\n",
    "    tpr = np.mean(sensitivity)\n",
    "    fpr = 1-np.mean(specificity)\n",
    "\n",
    "\n",
    "\n",
    "\n",
    "    # fpr, tpr, _ = roc_curve(y_test, y_score)\n",
    "    # roc_auc = auc(fpr, tpr)\n",
    "    auc = metrics.roc_auc_score(y_test, y_pred_proba, multi_class='ovr')\n",
    "    plt.plot(fpr, tpr, label='{} (AUC = {:.2f})'.format(clf_name, auc))\n",
    "# Add legend and labels\n",
    "plt.plot([0, 1], [0, 1], linestyle='--', color='r', label='Random Guess')\n",
    "plt.legend(loc=\"lower right\")\n",
    "plt.xlabel('False Positive Rate')\n",
    "plt.ylabel('True Positive Rate')\n",
    "plt.title('Receiver Operating Characteristic (ROC) Curve')\n",
    "plt.show()"
   ]
  }
 ],
 "metadata": {
  "kernelspec": {
   "display_name": "tf2.5",
   "language": "python",
   "name": "python3"
  },
  "language_info": {
   "codemirror_mode": {
    "name": "ipython",
    "version": 3
   },
   "file_extension": ".py",
   "mimetype": "text/x-python",
   "name": "python",
   "nbconvert_exporter": "python",
   "pygments_lexer": "ipython3",
   "version": "3.8.0"
  },
  "orig_nbformat": 4,
  "vscode": {
   "interpreter": {
    "hash": "38ee993d2b4f8eb633c0370d16521afbe82c41091b422041d03fbb1050a8fa9a"
   }
  }
 },
 "nbformat": 4,
 "nbformat_minor": 2
}
