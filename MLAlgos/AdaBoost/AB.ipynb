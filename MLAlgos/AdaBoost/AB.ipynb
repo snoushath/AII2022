{
 "cells": [
  {
   "cell_type": "code",
   "execution_count": 4,
   "metadata": {},
   "outputs": [],
   "source": [
    "import numpy as np\n",
    "import h5py"
   ]
  },
  {
   "cell_type": "code",
   "execution_count": 1,
   "metadata": {},
   "outputs": [],
   "source": [
    "def load_OASIS():\n",
    "    with h5py.File('..\\..\\Datasets\\OASIS_balanced.h5', 'r') as hdf:\n",
    "\n",
    "        G1 = hdf.get('Train Data')\n",
    "        trainX = np.array(G1.get('trainX'))\n",
    "        trainY = np.array(G1.get('trainY'))\n",
    "        G2 = hdf.get('Test Data')\n",
    "        testX = np.array(G2.get('testX'))\n",
    "        testY = np.array(G2.get('testY'))\n",
    "\n",
    "        return trainX, trainY, testX, testY"
   ]
  },
  {
   "cell_type": "code",
   "execution_count": 2,
   "metadata": {},
   "outputs": [],
   "source": [
    "def load_ADNI():\n",
    "    with h5py.File('..\\..\\Datasets\\ADNI_enhanced.h5', 'r') as hdf:\n",
    "\n",
    "        G1 = hdf.get('Train Data')\n",
    "        trainX = np.array(G1.get('x_train'))\n",
    "        trainY = np.array(G1.get('y_train'))\n",
    "        G2 = hdf.get('Test Data')\n",
    "        testX = np.array(G2.get('x_test'))\n",
    "        testY = np.array(G2.get('y_test'))\n",
    "\n",
    "        return trainX, trainY, testX, testY"
   ]
  },
  {
   "cell_type": "code",
   "execution_count": 6,
   "metadata": {},
   "outputs": [
    {
     "name": "stdout",
     "output_type": "stream",
     "text": [
      "(940, 218, 182, 1) (940,) (105, 218, 182, 1) (105,)\n"
     ]
    }
   ],
   "source": [
    "dataset = 'ADNI'\n",
    "# read the data which is also normalized.\n",
    "if dataset == 'ADNI':\n",
    "    x_train, y_train, x_test, y_test = load_ADNI()\n",
    "else:\n",
    "    x_train, y_train, x_test, y_test = load_OASIS()\n",
    "\n",
    "print(x_train.shape, y_train.shape, x_test.shape,y_test.shape)"
   ]
  },
  {
   "cell_type": "code",
   "execution_count": 29,
   "metadata": {},
   "outputs": [],
   "source": [
    "raw_pixels = True #use this to choose between raw pixels and VGG16 features"
   ]
  },
  {
   "cell_type": "code",
   "execution_count": 30,
   "metadata": {},
   "outputs": [
    {
     "name": "stdout",
     "output_type": "stream",
     "text": [
      "x_train shape: (8192, 176, 176)\n"
     ]
    }
   ],
   "source": [
    "# make it 3D (for VGG16)\n",
    "if (raw_pixels == False):\n",
    "    if dataset == 'ADNI':\n",
    "        x_train = np.repeat(x_train, 3, axis=3)\n",
    "        x_test = np.repeat(x_test, 3, axis=3)\n",
    "    else:\n",
    "        x_train = np.expand_dims(x_train, axis=-1)\n",
    "        x_train = np.repeat(x_train, 3, axis=3)\n",
    "        x_test = np.expand_dims(x_test, axis=-1)\n",
    "        x_test = np.repeat(x_test, 3, axis=3)\n",
    "print('x_train shape:', x_train.shape)"
   ]
  },
  {
   "cell_type": "code",
   "execution_count": 31,
   "metadata": {},
   "outputs": [],
   "source": [
    "if (raw_pixels  == False):\n",
    "\n",
    "    from tensorflow.keras.applications.vgg16 import VGG16\n",
    "    if dataset == 'ADNI':\n",
    "        VGG_model = VGG16(weights='imagenet', include_top=False, input_shape=(218, 182, 3))\n",
    "    else:\n",
    "        VGG_model = VGG16(weights='imagenet', include_top=False, input_shape=(176, 176, 3))\n",
    "    \n",
    "    # Make loaded layers as non-trainable. This is important as we want to work with pre-trained weights\n",
    "    for layer in VGG_model.layers:\n",
    "        layer.trainable = False\n",
    "\n",
    "    VGG_model.summary()  # Trainable parameters will be 0"
   ]
  },
  {
   "cell_type": "code",
   "execution_count": 32,
   "metadata": {},
   "outputs": [],
   "source": [
    "if (raw_pixels == False):\n",
    "# Now, let us use features from convolutional network for KNN\n",
    "    print(\"extracting VGG16 features\")\n",
    "    feature_extractor=VGG_model.predict(x_train)\n",
    "    print(\"reshaping features\")\n",
    "    features = feature_extractor.reshape(feature_extractor.shape[0], -1)\n",
    "    # print(feature_extractor.shape)\n",
    "    # print(features.shape)\n",
    "\n",
    "    X_Train = features #This is our X input to Logistic Regression.\n",
    "\n",
    "    #Send test data through same feature extractor process\n",
    "    X_test_feature = VGG_model.predict(x_test)\n",
    "    X_Test = X_test_feature.reshape(X_test_feature.shape[0], -1)\n",
    "    print(X_Test.shape)\n",
    "    print(X_Train.shape)"
   ]
  },
  {
   "cell_type": "code",
   "execution_count": 33,
   "metadata": {},
   "outputs": [
    {
     "name": "stdout",
     "output_type": "stream",
     "text": [
      "using raw pixels for classification:\n",
      "old shape (8192, 176, 176)\n",
      "new shape (8192, 30976)\n"
     ]
    }
   ],
   "source": [
    "#BELOW CODE IS FOR USING DIRECT PIXELS.\n",
    "if (raw_pixels != False):\n",
    "    print('using raw pixels for classification:')\n",
    "    print ('old shape',x_train.shape)\n",
    "    x_train = np.reshape(x_train,(x_train.shape[0],x_train.shape[1]*x_train.shape[2]))\n",
    "    x_test = np.reshape(x_test, (x_test.shape[0],x_test.shape[1]*x_test.shape[2]))\n",
    "    print('new shape',x_train.shape)\n",
    "    X_Train = x_train\n",
    "    X_Test = x_test\n"
   ]
  },
  {
   "cell_type": "code",
   "execution_count": 34,
   "metadata": {},
   "outputs": [
    {
     "name": "stdout",
     "output_type": "stream",
     "text": [
      "Fitting 5 folds for each of 10 candidates, totalling 50 fits\n",
      "[CV 1/5] END learning_rate=0.2, n_estimators=50;, score=0.728 total time= 3.1min\n",
      "[CV 2/5] END learning_rate=0.2, n_estimators=50;, score=0.717 total time= 3.3min\n",
      "[CV 3/5] END learning_rate=0.2, n_estimators=50;, score=0.717 total time= 3.5min\n",
      "[CV 4/5] END learning_rate=0.2, n_estimators=50;, score=0.710 total time= 3.1min\n",
      "[CV 5/5] END learning_rate=0.2, n_estimators=50;, score=0.720 total time= 3.4min\n",
      "[CV 1/5] END learning_rate=0.2, n_estimators=100;, score=0.716 total time= 3.2min\n",
      "[CV 2/5] END learning_rate=0.2, n_estimators=100;, score=0.716 total time= 3.4min\n",
      "[CV 3/5] END learning_rate=0.2, n_estimators=100;, score=0.708 total time= 3.5min\n",
      "[CV 4/5] END learning_rate=0.2, n_estimators=100;, score=0.714 total time= 3.3min\n",
      "[CV 5/5] END learning_rate=0.2, n_estimators=100;, score=0.728 total time= 3.4min\n",
      "[CV 1/5] END learning_rate=0.4, n_estimators=50;, score=0.712 total time= 3.2min\n",
      "[CV 2/5] END learning_rate=0.4, n_estimators=50;, score=0.707 total time= 3.4min\n",
      "[CV 3/5] END learning_rate=0.4, n_estimators=50;, score=0.704 total time= 3.6min\n",
      "[CV 4/5] END learning_rate=0.4, n_estimators=50;, score=0.720 total time= 3.3min\n",
      "[CV 5/5] END learning_rate=0.4, n_estimators=50;, score=0.728 total time= 3.3min\n",
      "[CV 1/5] END learning_rate=0.4, n_estimators=100;, score=0.719 total time= 3.1min\n",
      "[CV 2/5] END learning_rate=0.4, n_estimators=100;, score=0.714 total time= 3.2min\n",
      "[CV 3/5] END learning_rate=0.4, n_estimators=100;, score=0.708 total time= 3.5min\n",
      "[CV 4/5] END learning_rate=0.4, n_estimators=100;, score=0.712 total time= 3.1min\n",
      "[CV 5/5] END learning_rate=0.4, n_estimators=100;, score=0.727 total time= 3.2min\n",
      "[CV 1/5] END learning_rate=0.6, n_estimators=50;, score=0.717 total time= 3.0min\n",
      "[CV 2/5] END learning_rate=0.6, n_estimators=50;, score=0.711 total time= 3.2min\n",
      "[CV 3/5] END learning_rate=0.6, n_estimators=50;, score=0.710 total time= 3.5min\n",
      "[CV 4/5] END learning_rate=0.6, n_estimators=50;, score=0.724 total time= 3.1min\n",
      "[CV 5/5] END learning_rate=0.6, n_estimators=50;, score=0.725 total time= 3.2min\n",
      "[CV 1/5] END learning_rate=0.6, n_estimators=100;, score=0.722 total time= 3.1min\n",
      "[CV 2/5] END learning_rate=0.6, n_estimators=100;, score=0.707 total time= 3.2min\n",
      "[CV 3/5] END learning_rate=0.6, n_estimators=100;, score=0.710 total time= 3.4min\n",
      "[CV 4/5] END learning_rate=0.6, n_estimators=100;, score=0.716 total time= 3.1min\n",
      "[CV 5/5] END learning_rate=0.6, n_estimators=100;, score=0.728 total time= 3.2min\n",
      "[CV 1/5] END learning_rate=0.8, n_estimators=50;, score=0.723 total time= 3.1min\n",
      "[CV 2/5] END learning_rate=0.8, n_estimators=50;, score=0.707 total time= 3.2min\n",
      "[CV 3/5] END learning_rate=0.8, n_estimators=50;, score=0.712 total time= 3.4min\n",
      "[CV 4/5] END learning_rate=0.8, n_estimators=50;, score=0.726 total time= 3.1min\n",
      "[CV 5/5] END learning_rate=0.8, n_estimators=50;, score=0.726 total time= 3.2min\n",
      "[CV 1/5] END learning_rate=0.8, n_estimators=100;, score=0.716 total time= 3.1min\n",
      "[CV 2/5] END learning_rate=0.8, n_estimators=100;, score=0.714 total time= 3.1min\n",
      "[CV 3/5] END learning_rate=0.8, n_estimators=100;, score=0.720 total time= 3.3min\n",
      "[CV 4/5] END learning_rate=0.8, n_estimators=100;, score=0.709 total time= 3.0min\n",
      "[CV 5/5] END learning_rate=0.8, n_estimators=100;, score=0.734 total time= 3.0min\n",
      "[CV 1/5] END learning_rate=1.0, n_estimators=50;, score=0.723 total time= 3.0min\n",
      "[CV 2/5] END learning_rate=1.0, n_estimators=50;, score=0.711 total time= 3.1min\n",
      "[CV 3/5] END learning_rate=1.0, n_estimators=50;, score=0.719 total time= 3.3min\n",
      "[CV 4/5] END learning_rate=1.0, n_estimators=50;, score=0.719 total time= 3.0min\n",
      "[CV 5/5] END learning_rate=1.0, n_estimators=50;, score=0.725 total time= 3.0min\n",
      "[CV 1/5] END learning_rate=1.0, n_estimators=100;, score=0.722 total time= 3.0min\n",
      "[CV 2/5] END learning_rate=1.0, n_estimators=100;, score=0.714 total time= 3.1min\n",
      "[CV 3/5] END learning_rate=1.0, n_estimators=100;, score=0.708 total time= 3.3min\n",
      "[CV 4/5] END learning_rate=1.0, n_estimators=100;, score=0.710 total time= 3.0min\n",
      "[CV 5/5] END learning_rate=1.0, n_estimators=100;, score=0.717 total time= 3.1min\n"
     ]
    },
    {
     "data": {
      "text/html": [
       "<style>#sk-container-id-2 {color: black;background-color: white;}#sk-container-id-2 pre{padding: 0;}#sk-container-id-2 div.sk-toggleable {background-color: white;}#sk-container-id-2 label.sk-toggleable__label {cursor: pointer;display: block;width: 100%;margin-bottom: 0;padding: 0.3em;box-sizing: border-box;text-align: center;}#sk-container-id-2 label.sk-toggleable__label-arrow:before {content: \"▸\";float: left;margin-right: 0.25em;color: #696969;}#sk-container-id-2 label.sk-toggleable__label-arrow:hover:before {color: black;}#sk-container-id-2 div.sk-estimator:hover label.sk-toggleable__label-arrow:before {color: black;}#sk-container-id-2 div.sk-toggleable__content {max-height: 0;max-width: 0;overflow: hidden;text-align: left;background-color: #f0f8ff;}#sk-container-id-2 div.sk-toggleable__content pre {margin: 0.2em;color: black;border-radius: 0.25em;background-color: #f0f8ff;}#sk-container-id-2 input.sk-toggleable__control:checked~div.sk-toggleable__content {max-height: 200px;max-width: 100%;overflow: auto;}#sk-container-id-2 input.sk-toggleable__control:checked~label.sk-toggleable__label-arrow:before {content: \"▾\";}#sk-container-id-2 div.sk-estimator input.sk-toggleable__control:checked~label.sk-toggleable__label {background-color: #d4ebff;}#sk-container-id-2 div.sk-label input.sk-toggleable__control:checked~label.sk-toggleable__label {background-color: #d4ebff;}#sk-container-id-2 input.sk-hidden--visually {border: 0;clip: rect(1px 1px 1px 1px);clip: rect(1px, 1px, 1px, 1px);height: 1px;margin: -1px;overflow: hidden;padding: 0;position: absolute;width: 1px;}#sk-container-id-2 div.sk-estimator {font-family: monospace;background-color: #f0f8ff;border: 1px dotted black;border-radius: 0.25em;box-sizing: border-box;margin-bottom: 0.5em;}#sk-container-id-2 div.sk-estimator:hover {background-color: #d4ebff;}#sk-container-id-2 div.sk-parallel-item::after {content: \"\";width: 100%;border-bottom: 1px solid gray;flex-grow: 1;}#sk-container-id-2 div.sk-label:hover label.sk-toggleable__label {background-color: #d4ebff;}#sk-container-id-2 div.sk-serial::before {content: \"\";position: absolute;border-left: 1px solid gray;box-sizing: border-box;top: 0;bottom: 0;left: 50%;z-index: 0;}#sk-container-id-2 div.sk-serial {display: flex;flex-direction: column;align-items: center;background-color: white;padding-right: 0.2em;padding-left: 0.2em;position: relative;}#sk-container-id-2 div.sk-item {position: relative;z-index: 1;}#sk-container-id-2 div.sk-parallel {display: flex;align-items: stretch;justify-content: center;background-color: white;position: relative;}#sk-container-id-2 div.sk-item::before, #sk-container-id-2 div.sk-parallel-item::before {content: \"\";position: absolute;border-left: 1px solid gray;box-sizing: border-box;top: 0;bottom: 0;left: 50%;z-index: -1;}#sk-container-id-2 div.sk-parallel-item {display: flex;flex-direction: column;z-index: 1;position: relative;background-color: white;}#sk-container-id-2 div.sk-parallel-item:first-child::after {align-self: flex-end;width: 50%;}#sk-container-id-2 div.sk-parallel-item:last-child::after {align-self: flex-start;width: 50%;}#sk-container-id-2 div.sk-parallel-item:only-child::after {width: 0;}#sk-container-id-2 div.sk-dashed-wrapped {border: 1px dashed gray;margin: 0 0.4em 0.5em 0.4em;box-sizing: border-box;padding-bottom: 0.4em;background-color: white;}#sk-container-id-2 div.sk-label label {font-family: monospace;font-weight: bold;display: inline-block;line-height: 1.2em;}#sk-container-id-2 div.sk-label-container {text-align: center;}#sk-container-id-2 div.sk-container {/* jupyter's `normalize.less` sets `[hidden] { display: none; }` but bootstrap.min.css set `[hidden] { display: none !important; }` so we also need the `!important` here to be able to override the default hidden behavior on the sphinx rendered scikit-learn.org. See: https://github.com/scikit-learn/scikit-learn/issues/21755 */display: inline-block !important;position: relative;}#sk-container-id-2 div.sk-text-repr-fallback {display: none;}</style><div id=\"sk-container-id-2\" class=\"sk-top-container\"><div class=\"sk-text-repr-fallback\"><pre>GridSearchCV(cv=5,\n",
       "             estimator=AdaBoostClassifier(estimator=DecisionTreeClassifier(criterion=&#x27;log_loss&#x27;,\n",
       "                                                                           random_state=42)),\n",
       "             param_grid={&#x27;learning_rate&#x27;: [0.2, 0.4, 0.6, 0.8, 1.0],\n",
       "                         &#x27;n_estimators&#x27;: [50, 100]},\n",
       "             scoring=&#x27;accuracy&#x27;, verbose=3)</pre><b>In a Jupyter environment, please rerun this cell to show the HTML representation or trust the notebook. <br />On GitHub, the HTML representation is unable to render, please try loading this page with nbviewer.org.</b></div><div class=\"sk-container\" hidden><div class=\"sk-item sk-dashed-wrapped\"><div class=\"sk-label-container\"><div class=\"sk-label sk-toggleable\"><input class=\"sk-toggleable__control sk-hidden--visually\" id=\"sk-estimator-id-5\" type=\"checkbox\" ><label for=\"sk-estimator-id-5\" class=\"sk-toggleable__label sk-toggleable__label-arrow\">GridSearchCV</label><div class=\"sk-toggleable__content\"><pre>GridSearchCV(cv=5,\n",
       "             estimator=AdaBoostClassifier(estimator=DecisionTreeClassifier(criterion=&#x27;log_loss&#x27;,\n",
       "                                                                           random_state=42)),\n",
       "             param_grid={&#x27;learning_rate&#x27;: [0.2, 0.4, 0.6, 0.8, 1.0],\n",
       "                         &#x27;n_estimators&#x27;: [50, 100]},\n",
       "             scoring=&#x27;accuracy&#x27;, verbose=3)</pre></div></div></div><div class=\"sk-parallel\"><div class=\"sk-parallel-item\"><div class=\"sk-item\"><div class=\"sk-label-container\"><div class=\"sk-label sk-toggleable\"><input class=\"sk-toggleable__control sk-hidden--visually\" id=\"sk-estimator-id-6\" type=\"checkbox\" ><label for=\"sk-estimator-id-6\" class=\"sk-toggleable__label sk-toggleable__label-arrow\">estimator: AdaBoostClassifier</label><div class=\"sk-toggleable__content\"><pre>AdaBoostClassifier(estimator=DecisionTreeClassifier(criterion=&#x27;log_loss&#x27;,\n",
       "                                                    random_state=42))</pre></div></div></div><div class=\"sk-serial\"><div class=\"sk-item sk-dashed-wrapped\"><div class=\"sk-parallel\"><div class=\"sk-parallel-item\"><div class=\"sk-item\"><div class=\"sk-label-container\"><div class=\"sk-label sk-toggleable\"><input class=\"sk-toggleable__control sk-hidden--visually\" id=\"sk-estimator-id-7\" type=\"checkbox\" ><label for=\"sk-estimator-id-7\" class=\"sk-toggleable__label sk-toggleable__label-arrow\">estimator: DecisionTreeClassifier</label><div class=\"sk-toggleable__content\"><pre>DecisionTreeClassifier(criterion=&#x27;log_loss&#x27;, random_state=42)</pre></div></div></div><div class=\"sk-serial\"><div class=\"sk-item\"><div class=\"sk-estimator sk-toggleable\"><input class=\"sk-toggleable__control sk-hidden--visually\" id=\"sk-estimator-id-8\" type=\"checkbox\" ><label for=\"sk-estimator-id-8\" class=\"sk-toggleable__label sk-toggleable__label-arrow\">DecisionTreeClassifier</label><div class=\"sk-toggleable__content\"><pre>DecisionTreeClassifier(criterion=&#x27;log_loss&#x27;, random_state=42)</pre></div></div></div></div></div></div></div></div></div></div></div></div></div></div></div>"
      ],
      "text/plain": [
       "GridSearchCV(cv=5,\n",
       "             estimator=AdaBoostClassifier(estimator=DecisionTreeClassifier(criterion='log_loss',\n",
       "                                                                           random_state=42)),\n",
       "             param_grid={'learning_rate': [0.2, 0.4, 0.6, 0.8, 1.0],\n",
       "                         'n_estimators': [50, 100]},\n",
       "             scoring='accuracy', verbose=3)"
      ]
     },
     "execution_count": 34,
     "metadata": {},
     "output_type": "execute_result"
    }
   ],
   "source": [
    "from sklearn.ensemble import AdaBoostClassifier\n",
    "from sklearn.tree import DecisionTreeClassifier\n",
    "\n",
    "# print ('Grid Searching for AdaBoost Classifier')\n",
    "from sklearn.model_selection import GridSearchCV\n",
    "parameters = {'n_estimators': [50,100],\n",
    "              'learning_rate': [0.2,0.4,0.6,0.8,1.0],\n",
    "             }\n",
    "\n",
    "# # the best parameters for the AdaBoost classifier using raw pixels (OASIS)\n",
    "# parameters = {'n_estimators': [50],\n",
    "#               'learning_rate': [1.0],\n",
    "#              }\n",
    "\n",
    "\n",
    "## BELOW PARAMETERS BEST FOR VGG16\n",
    "# parameters = {'n_estimators': [100],\n",
    "#               'learning_rate': [0.4],\n",
    "#              }\n",
    "model = DecisionTreeClassifier(random_state = 42, splitter='best', criterion='log_loss')\n",
    "clf = GridSearchCV(AdaBoostClassifier(estimator=model),param_grid=parameters, cv=5, verbose=3, scoring='accuracy' )\n",
    "clf.fit(X_Train,y_train)\n",
    "#clf.fit(x_train,y_train)"
   ]
  },
  {
   "cell_type": "code",
   "execution_count": 35,
   "metadata": {},
   "outputs": [
    {
     "name": "stdout",
     "output_type": "stream",
     "text": [
      "training accuracy:  1.0\n"
     ]
    }
   ],
   "source": [
    "from sklearn import metrics\n",
    "predictions_train = clf.predict(X_Train)\n",
    "print(\"training accuracy: \",metrics.accuracy_score(predictions_train, y_train))"
   ]
  },
  {
   "cell_type": "code",
   "execution_count": 36,
   "metadata": {},
   "outputs": [
    {
     "name": "stdout",
     "output_type": "stream",
     "text": [
      "estimating accuracy\n",
      "Specificity or TNR 0.9116689919502609\n",
      "Sensitivity or TPR or Recall 0.7358773299565681\n",
      "FNR  0.26412267004343193\n",
      "FPR 0.08833100804973915\n",
      "Accuracy =  0.73515625\n",
      "AUC = 0.8237731609534145\n"
     ]
    }
   ],
   "source": [
    "from sklearn import metrics\n",
    "prediction=clf.predict(X_Test)\n",
    "print(\"estimating accuracy\")\n",
    "#Print overall accuracy\n",
    "from sklearn.metrics import multilabel_confusion_matrix\n",
    "\n",
    "mcm = multilabel_confusion_matrix(y_true=y_test, y_pred=prediction, labels=[0,1,2,3], samplewise=False)\n",
    "tn = mcm[:,0,0]\n",
    "tp = mcm[:,1,1]\n",
    "fp = mcm[:,0,1]\n",
    "fn = mcm[:,1,0]\n",
    "specificity = tn/(tn+fp)\n",
    "print(\"Specificity or TNR\",np.mean(specificity))\n",
    "\n",
    "sensitivity = tp/(tp+fn)\n",
    "print(\"Sensitivity or TPR or Recall\",np.mean(sensitivity))\n",
    "\n",
    "print(\"FNR \", 1-np.mean(sensitivity))\n",
    "\n",
    "print(\"FPR\", 1-np.mean(specificity))\n",
    "\n",
    "\n",
    "print(\"Accuracy = \", metrics.accuracy_score(y_test, prediction))\n",
    "\n",
    "# use model to predict probability that given y value is 1\n",
    "y_pred_proba = clf.predict_proba(X_Test)\n",
    "\n",
    "#calculate AUC of model\n",
    "auc = metrics.roc_auc_score(y_test, y_pred_proba, multi_class='ovr')\n",
    "\n",
    "#print AUC score\n",
    "print(\"AUC =\",auc)"
   ]
  },
  {
   "cell_type": "code",
   "execution_count": 37,
   "metadata": {},
   "outputs": [
    {
     "name": "stdout",
     "output_type": "stream",
     "text": [
      "best parameters {'learning_rate': 1.0, 'n_estimators': 50}\n",
      "best scores 0.7193609522468584\n"
     ]
    }
   ],
   "source": [
    "import pandas as pd\n",
    "df = pd.DataFrame(clf.cv_results_)\n",
    "#print(df.columns)\n",
    "#df['learning_rate']\n",
    "print(\"best parameters\",clf.best_params_)\n",
    "print(\"best scores\",clf.best_score_)"
   ]
  },
  {
   "cell_type": "code",
   "execution_count": 38,
   "metadata": {},
   "outputs": [
    {
     "data": {
      "image/png": "[encoded data removed]",
      "text/plain": [
       "<Figure size 700x600 with 1 Axes>"
      ]
     },
     "metadata": {},
     "output_type": "display_data"
    }
   ],
   "source": [
    "#confusion matrix\n",
    "from sklearn.metrics import confusion_matrix\n",
    "import seaborn as sns\n",
    "cf_matrix = confusion_matrix(y_test, prediction)\n",
    "import matplotlib.pyplot as plt\n",
    "fig = plt.figure(figsize=(7, 6))\n",
    "ax= plt.subplot()\n",
    "sns.heatmap(cf_matrix, annot=True, cmap='Blues', cbar=False, linewidth=0.5,linecolor=\"black\",fmt='')\n",
    "ax.set_xlabel('Predicted Label', fontsize=12)\n",
    "ax.set_ylabel('True Label', fontsize=12)\n",
    "plt.savefig(\"CM-ABoost-OASIS.pdf\")"
   ]
  }
 ],
 "metadata": {
  "kernelspec": {
   "display_name": "tf2.5",
   "language": "python",
   "name": "python3"
  },
  "language_info": {
   "codemirror_mode": {
    "name": "ipython",
    "version": 3
   },
   "file_extension": ".py",
   "mimetype": "text/x-python",
   "name": "python",
   "nbconvert_exporter": "python",
   "pygments_lexer": "ipython3",
   "version": "3.8.0"
  },
  "orig_nbformat": 4,
  "vscode": {
   "interpreter": {
    "hash": "38ee993d2b4f8eb633c0370d16521afbe82c41091b422041d03fbb1050a8fa9a"
   }
  }
 },
 "nbformat": 4,
 "nbformat_minor": 2
}
