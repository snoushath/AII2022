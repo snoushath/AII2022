{
 "cells": [
  {
   "attachments": {},
   "cell_type": "markdown",
   "metadata": {},
   "source": [
    "Random Forest Classifier for Alzheimer's disease Classification"
   ]
  },
  {
   "cell_type": "code",
   "execution_count": 49,
   "metadata": {},
   "outputs": [],
   "source": [
    "import numpy as np\n",
    "import h5py"
   ]
  },
  {
   "cell_type": "code",
   "execution_count": 50,
   "metadata": {},
   "outputs": [],
   "source": [
    "def load_OASIS():\n",
    "     with h5py.File('..\\..\\Datasets\\OASIS_balanced.h5', 'r') as hdf:\n",
    "        G1 = hdf.get('Train Data')\n",
    "        trainX = np.array(G1.get('trainX'))\n",
    "        trainY = np.array(G1.get('trainY'))\n",
    "        G2 = hdf.get('Test Data')\n",
    "        testX = np.array(G2.get('testX'))\n",
    "        testY = np.array(G2.get('testY'))\n",
    "        return trainX, trainY, testX, testY"
   ]
  },
  {
   "cell_type": "code",
   "execution_count": 51,
   "metadata": {},
   "outputs": [],
   "source": [
    "def load_ADNI():\n",
    "    with h5py.File('..\\..\\Datasets\\ADNI_enhanced.h5', 'r') as hdf:\n",
    "\n",
    "        G1 = hdf.get('Train Data')\n",
    "        trainX = np.array(G1.get('x_train'))\n",
    "        trainY = np.array(G1.get('y_train'))\n",
    "        G2 = hdf.get('Test Data')\n",
    "        testX = np.array(G2.get('x_test'))\n",
    "        testY = np.array(G2.get('y_test'))\n",
    "\n",
    "        return trainX, trainY, testX, testY"
   ]
  },
  {
   "cell_type": "code",
   "execution_count": 52,
   "metadata": {},
   "outputs": [
    {
     "name": "stdout",
     "output_type": "stream",
     "text": [
      "(8192, 176, 176) (8192,) (2560, 176, 176) (2560,)\n"
     ]
    }
   ],
   "source": [
    "dataset = 'ADdNI'\n",
    "# read the data which is also normalized.\n",
    "if dataset == 'ADNI':\n",
    "    x_train, y_train, x_test, y_test = load_ADNI()\n",
    "else:\n",
    "    x_train, y_train, x_test, y_test = load_OASIS()\n",
    "\n",
    "print(x_train.shape, y_train.shape, x_test.shape,y_test.shape)"
   ]
  },
  {
   "cell_type": "code",
   "execution_count": 53,
   "metadata": {},
   "outputs": [],
   "source": [
    "raw_pixels = False #use this to choose between raw pixels and VGG16 features"
   ]
  },
  {
   "cell_type": "code",
   "execution_count": 54,
   "metadata": {},
   "outputs": [
    {
     "name": "stdout",
     "output_type": "stream",
     "text": [
      "x_train shape: (8192, 176, 176, 3)\n"
     ]
    }
   ],
   "source": [
    "# make it 3D (for VGG16)\n",
    "if (raw_pixels == False):\n",
    "    if dataset == 'ADNI':\n",
    "        x_train = np.repeat(x_train, 3, axis=3)\n",
    "        x_test = np.repeat(x_test, 3, axis=3)\n",
    "    else:\n",
    "        x_train = np.expand_dims(x_train, axis=-1)\n",
    "        x_train = np.repeat(x_train, 3, axis=3)\n",
    "        x_test = np.expand_dims(x_test, axis=-1)\n",
    "        x_test = np.repeat(x_test, 3, axis=3)\n",
    "print('x_train shape:', x_train.shape)"
   ]
  },
  {
   "cell_type": "code",
   "execution_count": 55,
   "metadata": {},
   "outputs": [
    {
     "name": "stdout",
     "output_type": "stream",
     "text": [
      "Model: \"vgg16\"\n",
      "_________________________________________________________________\n",
      "Layer (type)                 Output Shape              Param #   \n",
      "=================================================================\n",
      "input_2 (InputLayer)         [(None, 176, 176, 3)]     0         \n",
      "_________________________________________________________________\n",
      "block1_conv1 (Conv2D)        (None, 176, 176, 64)      1792      \n",
      "_________________________________________________________________\n",
      "block1_conv2 (Conv2D)        (None, 176, 176, 64)      36928     \n",
      "_________________________________________________________________\n",
      "block1_pool (MaxPooling2D)   (None, 88, 88, 64)        0         \n",
      "_________________________________________________________________\n",
      "block2_conv1 (Conv2D)        (None, 88, 88, 128)       73856     \n",
      "_________________________________________________________________\n",
      "block2_conv2 (Conv2D)        (None, 88, 88, 128)       147584    \n",
      "_________________________________________________________________\n",
      "block2_pool (MaxPooling2D)   (None, 44, 44, 128)       0         \n",
      "_________________________________________________________________\n",
      "block3_conv1 (Conv2D)        (None, 44, 44, 256)       295168    \n",
      "_________________________________________________________________\n",
      "block3_conv2 (Conv2D)        (None, 44, 44, 256)       590080    \n",
      "_________________________________________________________________\n",
      "block3_conv3 (Conv2D)        (None, 44, 44, 256)       590080    \n",
      "_________________________________________________________________\n",
      "block3_pool (MaxPooling2D)   (None, 22, 22, 256)       0         \n",
      "_________________________________________________________________\n",
      "block4_conv1 (Conv2D)        (None, 22, 22, 512)       1180160   \n",
      "_________________________________________________________________\n",
      "block4_conv2 (Conv2D)        (None, 22, 22, 512)       2359808   \n",
      "_________________________________________________________________\n",
      "block4_conv3 (Conv2D)        (None, 22, 22, 512)       2359808   \n",
      "_________________________________________________________________\n",
      "block4_pool (MaxPooling2D)   (None, 11, 11, 512)       0         \n",
      "_________________________________________________________________\n",
      "block5_conv1 (Conv2D)        (None, 11, 11, 512)       2359808   \n",
      "_________________________________________________________________\n",
      "block5_conv2 (Conv2D)        (None, 11, 11, 512)       2359808   \n",
      "_________________________________________________________________\n",
      "block5_conv3 (Conv2D)        (None, 11, 11, 512)       2359808   \n",
      "_________________________________________________________________\n",
      "block5_pool (MaxPooling2D)   (None, 5, 5, 512)         0         \n",
      "=================================================================\n",
      "Total params: 14,714,688\n",
      "Trainable params: 0\n",
      "Non-trainable params: 14,714,688\n",
      "_________________________________________________________________\n"
     ]
    }
   ],
   "source": [
    "if (raw_pixels  == False):\n",
    "\n",
    "    from tensorflow.keras.applications.vgg16 import VGG16\n",
    "    if dataset == 'ADNI':\n",
    "        VGG_model = VGG16(weights='imagenet', include_top=False, input_shape=(218, 182, 3))\n",
    "    else:\n",
    "        VGG_model = VGG16(weights='imagenet', include_top=False, input_shape=(176, 176, 3))\n",
    "    \n",
    "    # Make loaded layers as non-trainable. This is important as we want to work with pre-trained weights\n",
    "    for layer in VGG_model.layers:\n",
    "        layer.trainable = False\n",
    "\n",
    "    VGG_model.summary()  # Trainable parameters will be 0"
   ]
  },
  {
   "cell_type": "code",
   "execution_count": 56,
   "metadata": {},
   "outputs": [
    {
     "name": "stdout",
     "output_type": "stream",
     "text": [
      "extracting VGG16 features\n",
      "reshaping features\n",
      "(2560, 12800)\n",
      "(8192, 12800)\n"
     ]
    }
   ],
   "source": [
    "if (raw_pixels == False):\n",
    "# Now, let us use features from convolutional network for KNN\n",
    "    print(\"extracting VGG16 features\")\n",
    "    feature_extractor=VGG_model.predict(x_train)\n",
    "    print(\"reshaping features\")\n",
    "    features = feature_extractor.reshape(feature_extractor.shape[0], -1)\n",
    "    # print(feature_extractor.shape)\n",
    "    # print(features.shape)\n",
    "\n",
    "    X_Train = features #This is our X input to Logistic Regression.\n",
    "\n",
    "    #Send test data through same feature extractor process\n",
    "    X_test_feature = VGG_model.predict(x_test)\n",
    "    X_Test = X_test_feature.reshape(X_test_feature.shape[0], -1)\n",
    "    print(X_Test.shape)\n",
    "    print(X_Train.shape)"
   ]
  },
  {
   "cell_type": "code",
   "execution_count": 57,
   "metadata": {},
   "outputs": [],
   "source": [
    "#BELOW CODE IS FOR USING DIRECT PIXELS.\n",
    "if (raw_pixels != False):\n",
    "    print('using raw pixels for classification:')\n",
    "    print ('old shape',x_train.shape)\n",
    "    x_train = np.reshape(x_train,(x_train.shape[0],x_train.shape[1]*x_train.shape[2]))\n",
    "    x_test = np.reshape(x_test, (x_test.shape[0],x_test.shape[1]*x_test.shape[2]))\n",
    "    print('new shape',x_train.shape)\n",
    "    X_Train = x_train\n",
    "    X_Test = x_test"
   ]
  },
  {
   "cell_type": "code",
   "execution_count": 58,
   "metadata": {},
   "outputs": [],
   "source": [
    "from sklearn.naive_bayes import GaussianNB\n",
    "nb_model = GaussianNB()\n",
    "fit_nb = nb_model.fit(X_Train, y_train)"
   ]
  },
  {
   "cell_type": "code",
   "execution_count": 59,
   "metadata": {},
   "outputs": [
    {
     "name": "stdout",
     "output_type": "stream",
     "text": [
      "estimating accuracy\n",
      "Specificity or TNR 0.8919010600382282\n",
      "Sensitivity or TPR or Recall 0.6745771731357295\n",
      "FNR  0.3254228268642705\n",
      "FPR 0.10809893996177178\n",
      "Accuracy =  0.6765625\n",
      "AUC = 0.7982580247430601\n"
     ]
    }
   ],
   "source": [
    "prediction=fit_nb.predict(X_Test)\n",
    "print(\"estimating accuracy\")\n",
    "#Print overall accuracy\n",
    "from sklearn.metrics import multilabel_confusion_matrix\n",
    "from sklearn import metrics\n",
    "mcm = multilabel_confusion_matrix(y_true=y_test, y_pred=prediction, labels=[0,1,2,3], samplewise=False)\n",
    "tn = mcm[:,0,0]\n",
    "tp = mcm[:,1,1]\n",
    "fp = mcm[:,0,1]\n",
    "fn = mcm[:,1,0]\n",
    "specificity = tn/(tn+fp)\n",
    "print(\"Specificity or TNR\",np.mean(specificity))\n",
    "\n",
    "sensitivity = tp/(tp+fn)\n",
    "print(\"Sensitivity or TPR or Recall\",np.mean(sensitivity))\n",
    "\n",
    "print(\"FNR \", 1-np.mean(sensitivity))\n",
    "\n",
    "print(\"FPR\", 1-np.mean(specificity))\n",
    "print(\"Accuracy = \", metrics.accuracy_score(y_test, prediction))\n",
    "# use model to predict probability that given y value is 1\n",
    "y_pred_proba = fit_nb.predict_proba(X_Test)\n",
    "\n",
    "#calculate AUC of model\n",
    "auc = metrics.roc_auc_score(y_test, y_pred_proba, multi_class='ovr')\n",
    "\n",
    "#print AUC score\n",
    "print(\"AUC =\",auc)"
   ]
  },
  {
   "cell_type": "code",
   "execution_count": 60,
   "metadata": {},
   "outputs": [
    {
     "data": {
      "image/png": "[encoded data removed]",
      "text/plain": [
       "<Figure size 700x600 with 1 Axes>"
      ]
     },
     "metadata": {},
     "output_type": "display_data"
    }
   ],
   "source": [
    "from sklearn.metrics import confusion_matrix\n",
    "import seaborn as sns\n",
    "cf_matrix = confusion_matrix(y_test, prediction)\n",
    "import matplotlib.pyplot as plt\n",
    "fig = plt.figure(figsize=(7, 6))\n",
    "ax= plt.subplot()\n",
    "sns.heatmap(cf_matrix, annot=True, cmap='Blues', cbar=False, linewidth=0.5,linecolor=\"black\",fmt='')\n",
    "ax.set_xlabel('Predicted Label', fontsize=12)\n",
    "ax.set_ylabel('True Label', fontsize=12)\n",
    "plt.savefig(\"CM-NB-OASIS-VGG16.pdf\")"
   ]
  }
 ],
 "metadata": {
  "kernelspec": {
   "display_name": "tf2.5",
   "language": "python",
   "name": "python3"
  },
  "language_info": {
   "codemirror_mode": {
    "name": "ipython",
    "version": 3
   },
   "file_extension": ".py",
   "mimetype": "text/x-python",
   "name": "python",
   "nbconvert_exporter": "python",
   "pygments_lexer": "ipython3",
   "version": "3.8.0"
  },
  "orig_nbformat": 4,
  "vscode": {
   "interpreter": {
    "hash": "38ee993d2b4f8eb633c0370d16521afbe82c41091b422041d03fbb1050a8fa9a"
   }
  }
 },
 "nbformat": 4,
 "nbformat_minor": 2
}
