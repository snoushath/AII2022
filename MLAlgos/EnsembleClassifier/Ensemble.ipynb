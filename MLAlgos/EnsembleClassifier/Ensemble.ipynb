{
 "cells": [
  {
   "cell_type": "code",
   "execution_count": 10,
   "metadata": {},
   "outputs": [],
   "source": [
    "import numpy as np\n",
    "import h5py\n",
    "from sklearn.metrics import accuracy_score"
   ]
  },
  {
   "cell_type": "code",
   "execution_count": 7,
   "metadata": {},
   "outputs": [],
   "source": [
    "def load_OASIS():\n",
    "     with h5py.File('..\\..\\Datasets\\OASIS_balanced.h5', 'r') as hdf:\n",
    "        G1 = hdf.get('Train Data')\n",
    "        trainX = np.array(G1.get('trainX'))\n",
    "        trainY = np.array(G1.get('trainY'))\n",
    "        G2 = hdf.get('Test Data')\n",
    "        testX = np.array(G2.get('testX'))\n",
    "        testY = np.array(G2.get('testY'))\n",
    "        return trainX, trainY, testX, testY"
   ]
  },
  {
   "cell_type": "code",
   "execution_count": 9,
   "metadata": {},
   "outputs": [],
   "source": [
    "def load_ADNI():\n",
    "    with h5py.File('..\\..\\Datasets\\ADNI_enhanced.h5', 'r') as hdf:\n",
    "\n",
    "        G1 = hdf.get('Train Data')\n",
    "        trainX = np.array(G1.get('x_train'))\n",
    "        trainY = np.array(G1.get('y_train'))\n",
    "        G2 = hdf.get('Test Data')\n",
    "        testX = np.array(G2.get('x_test'))\n",
    "        testY = np.array(G2.get('y_test'))\n",
    "\n",
    "        return trainX, trainY, testX, testY"
   ]
  },
  {
   "cell_type": "code",
   "execution_count": 8,
   "metadata": {},
   "outputs": [
    {
     "name": "stdout",
     "output_type": "stream",
     "text": [
      "(8192, 176, 176) (8192,) (2560, 176, 176) (2560,)\n"
     ]
    }
   ],
   "source": [
    "dataset = 'ADNdI'\n",
    "# read the data which is also normalized.\n",
    "if dataset == 'ADNI':\n",
    "    x_train, y_train, x_test, y_test = load_ADNI()\n",
    "else:\n",
    "    x_train, y_train, x_test, y_test = load_OASIS()\n",
    "\n",
    "print(x_train.shape, y_train.shape, x_test.shape,y_test.shape)"
   ]
  },
  {
   "cell_type": "code",
   "execution_count": 5,
   "metadata": {},
   "outputs": [
    {
     "name": "stdout",
     "output_type": "stream",
     "text": [
      "x_train shape: (8192, 176, 176, 3)\n"
     ]
    }
   ],
   "source": [
    "# make it 3D (for VGG16)\n",
    "if dataset == 'ADNI':\n",
    "    x_train = np.repeat(x_train, 3, axis=3)\n",
    "    x_test = np.repeat(x_test, 3, axis=3)\n",
    "else:\n",
    "    x_train = np.expand_dims(x_train, axis=-1)\n",
    "    x_train = np.repeat(x_train, 3, axis=3)\n",
    "    x_test = np.expand_dims(x_test, axis=-1)\n",
    "    x_test = np.repeat(x_test, 3, axis=3)\n",
    "print('x_train shape:', x_train.shape)"
   ]
  },
  {
   "cell_type": "code",
   "execution_count": 6,
   "metadata": {},
   "outputs": [
    {
     "name": "stdout",
     "output_type": "stream",
     "text": [
      "Model: \"vgg16\"\n",
      "_________________________________________________________________\n",
      "Layer (type)                 Output Shape              Param #   \n",
      "=================================================================\n",
      "input_1 (InputLayer)         [(None, 176, 176, 3)]     0         \n",
      "_________________________________________________________________\n",
      "block1_conv1 (Conv2D)        (None, 176, 176, 64)      1792      \n",
      "_________________________________________________________________\n",
      "block1_conv2 (Conv2D)        (None, 176, 176, 64)      36928     \n",
      "_________________________________________________________________\n",
      "block1_pool (MaxPooling2D)   (None, 88, 88, 64)        0         \n",
      "_________________________________________________________________\n",
      "block2_conv1 (Conv2D)        (None, 88, 88, 128)       73856     \n",
      "_________________________________________________________________\n",
      "block2_conv2 (Conv2D)        (None, 88, 88, 128)       147584    \n",
      "_________________________________________________________________\n",
      "block2_pool (MaxPooling2D)   (None, 44, 44, 128)       0         \n",
      "_________________________________________________________________\n",
      "block3_conv1 (Conv2D)        (None, 44, 44, 256)       295168    \n",
      "_________________________________________________________________\n",
      "block3_conv2 (Conv2D)        (None, 44, 44, 256)       590080    \n",
      "_________________________________________________________________\n",
      "block3_conv3 (Conv2D)        (None, 44, 44, 256)       590080    \n",
      "_________________________________________________________________\n",
      "block3_pool (MaxPooling2D)   (None, 22, 22, 256)       0         \n",
      "_________________________________________________________________\n",
      "block4_conv1 (Conv2D)        (None, 22, 22, 512)       1180160   \n",
      "_________________________________________________________________\n",
      "block4_conv2 (Conv2D)        (None, 22, 22, 512)       2359808   \n",
      "_________________________________________________________________\n",
      "block4_conv3 (Conv2D)        (None, 22, 22, 512)       2359808   \n",
      "_________________________________________________________________\n",
      "block4_pool (MaxPooling2D)   (None, 11, 11, 512)       0         \n",
      "_________________________________________________________________\n",
      "block5_conv1 (Conv2D)        (None, 11, 11, 512)       2359808   \n",
      "_________________________________________________________________\n",
      "block5_conv2 (Conv2D)        (None, 11, 11, 512)       2359808   \n",
      "_________________________________________________________________\n",
      "block5_conv3 (Conv2D)        (None, 11, 11, 512)       2359808   \n",
      "_________________________________________________________________\n",
      "block5_pool (MaxPooling2D)   (None, 5, 5, 512)         0         \n",
      "=================================================================\n",
      "Total params: 14,714,688\n",
      "Trainable params: 0\n",
      "Non-trainable params: 14,714,688\n",
      "_________________________________________________________________\n"
     ]
    }
   ],
   "source": [
    "from tensorflow.keras.applications.vgg16 import VGG16\n",
    "if dataset == 'ADNI':\n",
    "    VGG_model = VGG16(weights='imagenet', include_top=False, input_shape=(218, 182, 3))\n",
    "else:\n",
    "    VGG_model = VGG16(weights='imagenet', include_top=False, input_shape=(176, 176, 3))\n",
    "    \n",
    "# Make loaded layers as non-trainable. This is important as we want to work with pre-trained weights\n",
    "for layer in VGG_model.layers:\n",
    "    layer.trainable = False\n",
    "\n",
    "VGG_model.summary()  # Trainable parameters will be 0"
   ]
  },
  {
   "cell_type": "code",
   "execution_count": 7,
   "metadata": {},
   "outputs": [
    {
     "name": "stdout",
     "output_type": "stream",
     "text": [
      "extracting VGG16 features\n",
      "reshaping features\n",
      "(2560, 12800)\n",
      "(8192, 12800)\n"
     ]
    }
   ],
   "source": [
    "# Now, let us use features from convolutional network for KNN\n",
    "print(\"extracting VGG16 features\")\n",
    "feature_extractor=VGG_model.predict(x_train)\n",
    "print(\"reshaping features\")\n",
    "features = feature_extractor.reshape(feature_extractor.shape[0], -1)\n",
    "# print(feature_extractor.shape)\n",
    "# print(features.shape)\n",
    "X_Train = features #This is our X input to Logistic Regression.\n",
    "#Send test data through same feature extractor process\n",
    "X_test_feature = VGG_model.predict(x_test)\n",
    "X_Test = X_test_feature.reshape(X_test_feature.shape[0], -1)\n",
    "print(X_Test.shape)\n",
    "print(X_Train.shape)"
   ]
  },
  {
   "cell_type": "code",
   "execution_count": 8,
   "metadata": {},
   "outputs": [
    {
     "name": "stdout",
     "output_type": "stream",
     "text": [
      "model-1:KNN\n"
     ]
    }
   ],
   "source": [
    "print(\"model-1:KNN\")\n",
    "from sklearn.neighbors import KNeighborsClassifier\n",
    "model1_KNN = KNeighborsClassifier(n_neighbors = 3, metric = 'minkowski', p = 2)\n",
    "\n",
    "# print('Train the model on training data')\n",
    "# model1_KNN.fit(X_Train, y_train) # For sklearn no one hot encoding\n",
    "\n",
    "# print(\"predicting\")\n",
    "# # Now predict using the trained RF model.\n",
    "# prediction1 = model1_KNN.predict(X_Test)"
   ]
  },
  {
   "cell_type": "code",
   "execution_count": 9,
   "metadata": {},
   "outputs": [
    {
     "name": "stdout",
     "output_type": "stream",
     "text": [
      "model-2\n"
     ]
    }
   ],
   "source": [
    "print('model-2')\n",
    "from sklearn import svm\n",
    "model2_SVM = svm.SVC(kernel='linear',C=1, probability=True, random_state=42)\n",
    "\n",
    "# print('Train the model')\n",
    "# model2_SVM.fit(X_Train, y_train)\n",
    "\n",
    "# print ('Predicting')\n",
    "# prediction2 = model2_SVM.predict(X_Test)\n",
    "\n"
   ]
  },
  {
   "cell_type": "code",
   "execution_count": 58,
   "metadata": {},
   "outputs": [
    {
     "name": "stdout",
     "output_type": "stream",
     "text": [
      "model-3\n"
     ]
    }
   ],
   "source": [
    "print('model-3')\n",
    "import xgboost as xgb\n",
    "model3_XGB = xgb.XGBClassifier(learning_rate=0.1, n_estimators=100)\n",
    "\n",
    "# print('Train the model')\n",
    "# model3_XGB.fit(X_Train, y_train)  # For sklearn no one hot encoding\n",
    "\n",
    "# print ('Predicting')\n",
    "# prediction3 = model3_XGB.predict(X_Test)"
   ]
  },
  {
   "cell_type": "code",
   "execution_count": 59,
   "metadata": {},
   "outputs": [
    {
     "name": "stdout",
     "output_type": "stream",
     "text": [
      "model-4\n"
     ]
    }
   ],
   "source": [
    "print('model-4')\n",
    "from sklearn.linear_model import LogisticRegression\n",
    "model4_LogReg = LogisticRegression(solver = 'liblinear')\n",
    "\n",
    "# print('Train the model')\n",
    "# model4_LogReg.fit(X_Train, y_train)\n",
    "\n",
    "# print ('Predicting')\n",
    "# prediction4 = model4_LogReg.predict(X_Test)"
   ]
  },
  {
   "cell_type": "code",
   "execution_count": 60,
   "metadata": {},
   "outputs": [],
   "source": [
    "\n",
    "# print('KNN accuracy:', accuracy_score(y_test, prediction1))\n",
    "\n",
    "# print('SVM accuracy:', accuracy_score(y_test, prediction2))\n",
    "\n",
    "# print('XGBoost accuracy:', accuracy_score(y_test, prediction3))\n",
    "\n",
    "# print('Logistic regression accuracy:', accuracy_score(y_test, prediction4))\n",
    "\n"
   ]
  },
  {
   "cell_type": "code",
   "execution_count": 13,
   "metadata": {},
   "outputs": [
    {
     "name": "stdout",
     "output_type": "stream",
     "text": [
      "Ensemble Accuracy: 0.965234375\n"
     ]
    }
   ],
   "source": [
    "from sklearn.ensemble import VotingClassifier\n",
    "#model = VotingClassifier(estimators=[('knn', model1_KNN), ('svm', model2_SVM), ('XGB',model3_XGB), ('LogReg', model4_LogReg)], voting='soft')\n",
    "#model = VotingClassifier(estimators=[('knn', model1_KNN), ('svm', model2_SVM),('LogReg',model4_LogReg),('XGB', model3_XGB)], voting='hard')\n",
    "model = VotingClassifier(estimators=[('svm',model2_SVM),('knn',model1_KNN)], voting='soft')\n",
    "#model = VotingClassifier(estimators=[('knn', model1_KNN), ('xgb', model3_XGB)], voting='soft')\n",
    "model=model.fit(X_Train, y_train)\n",
    "\n",
    "print('Ensemble Accuracy:', model.score(X_Test,y_test))"
   ]
  },
  {
   "cell_type": "code",
   "execution_count": 15,
   "metadata": {},
   "outputs": [
    {
     "data": {
      "image/png": "[encoded data removed]",
      "text/plain": [
       "<Figure size 700x600 with 1 Axes>"
      ]
     },
     "metadata": {},
     "output_type": "display_data"
    }
   ],
   "source": [
    "#confusion matrix\n",
    "from sklearn.metrics import confusion_matrix\n",
    "import seaborn as sns\n",
    "prediction = model.predict(X_Test)\n"
   ]
  },
  {
   "cell_type": "code",
   "execution_count": 17,
   "metadata": {},
   "outputs": [
    {
     "data": {
      "image/png": "[encoded data removed]",
      "text/plain": [
       "<Figure size 700x600 with 1 Axes>"
      ]
     },
     "metadata": {},
     "output_type": "display_data"
    }
   ],
   "source": [
    "cf_matrix = confusion_matrix(y_test, prediction)\n",
    "import matplotlib.pyplot as plt\n",
    "fig = plt.figure(figsize=(7, 6))\n",
    "ax= plt.subplot()\n",
    "sns.heatmap(cf_matrix, annot=True, cmap=sns.cubehelix_palette(as_cmap=True), cbar=False, linewidth=0.5,linecolor=\"black\",fmt='')\n",
    "ax.set_xlabel('Predicted Label', fontsize=12)\n",
    "ax.set_ylabel('True Label', fontsize=12)\n",
    "plt.savefig(\"CM-Ensemble-OASIS.pdf\")"
   ]
  }
 ],
 "metadata": {
  "kernelspec": {
   "display_name": "tf2.5",
   "language": "python",
   "name": "python3"
  },
  "language_info": {
   "codemirror_mode": {
    "name": "ipython",
    "version": 3
   },
   "file_extension": ".py",
   "mimetype": "text/x-python",
   "name": "python",
   "nbconvert_exporter": "python",
   "pygments_lexer": "ipython3",
   "version": "3.9.13"
  },
  "orig_nbformat": 4,
  "vscode": {
   "interpreter": {
    "hash": "38ee993d2b4f8eb633c0370d16521afbe82c41091b422041d03fbb1050a8fa9a"
   }
  }
 },
 "nbformat": 4,
 "nbformat_minor": 2
}
